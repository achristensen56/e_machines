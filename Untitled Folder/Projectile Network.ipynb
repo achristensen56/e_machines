{
 "cells": [
  {
   "cell_type": "code",
   "execution_count": 1,
   "metadata": {
    "collapsed": true
   },
   "outputs": [],
   "source": [
    "import tensorflow as tf\n",
    "import numpy as np\n",
    "import matplotlib.pyplot as plt\n",
    "%matplotlib inline"
   ]
  },
  {
   "cell_type": "code",
   "execution_count": null,
   "metadata": {
    "collapsed": true
   },
   "outputs": [],
   "source": [
    "sess = tf.Session()\n",
    "\n",
    "nhidden = 20\n",
    "nBPtimesteps = 20\n",
    "\n",
    "x = tf.placeholder(tf.float32, shape=[None,2]) #input\n",
    "y = tf.placeholder(tf.float32, shape=[None,2]) #output\n",
    "\n",
    "\n",
    "W_01 = tf.Variable(tf.truncated_normal(shape=[2,nhidden], stddev=0.01))\n",
    "W_11 = tf.Variable(tf.truncated_normal(shape=[nhidden,nhidden], stddev=0.01))\n",
    "W_12 = tf.Variable(tf.truncated_normal(shape=[nhidden,2], stddev=0.01))\n",
    "\n",
    "loss = tf.Variable(0.0)\n",
    "\n",
    "h1 = tf.rnn_cell.BasicLSTMCell(nhidden)\n",
    "\n",
    "\n",
    "for i in range(nBPtimesteps):\n",
    "    "
   ]
  }
 ],
 "metadata": {
  "kernelspec": {
   "display_name": "Python 2",
   "language": "python",
   "name": "python2"
  },
  "language_info": {
   "codemirror_mode": {
    "name": "ipython",
    "version": 2
   },
   "file_extension": ".py",
   "mimetype": "text/x-python",
   "name": "python",
   "nbconvert_exporter": "python",
   "pygments_lexer": "ipython2",
   "version": "2.7.11"
  }
 },
 "nbformat": 4,
 "nbformat_minor": 0
}
